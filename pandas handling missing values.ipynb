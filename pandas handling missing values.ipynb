{
 "cells": [
  {
   "cell_type": "code",
   "execution_count": 1,
   "id": "5fa9a6cb",
   "metadata": {},
   "outputs": [],
   "source": [
    "import pandas as pd"
   ]
  },
  {
   "cell_type": "code",
   "execution_count": 61,
   "id": "3aa6b0f0",
   "metadata": {},
   "outputs": [],
   "source": [
    "df = pd.read_csv(r'C:\\Users\\Satyam\\Downloads\\Indian Startup.csv')"
   ]
  },
  {
   "cell_type": "code",
   "execution_count": 3,
   "id": "1dfd1b0e",
   "metadata": {},
   "outputs": [
    {
     "data": {
      "text/plain": [
       "Company/Brand      0\n",
       "Founded            1\n",
       "Headquarters       1\n",
       "Sector             0\n",
       "What it does       0\n",
       "Founder/s          4\n",
       "Investor/s        63\n",
       "Amount             7\n",
       "Stage            428\n",
       "Date               0\n",
       "dtype: int64"
      ]
     },
     "execution_count": 3,
     "metadata": {},
     "output_type": "execute_result"
    }
   ],
   "source": [
    "df.isnull().sum()"
   ]
  },
  {
   "cell_type": "code",
   "execution_count": 4,
   "id": "1f581fd0",
   "metadata": {},
   "outputs": [
    {
     "data": {
      "text/plain": [
       "(1209, 10)"
      ]
     },
     "execution_count": 4,
     "metadata": {},
     "output_type": "execute_result"
    }
   ],
   "source": [
    "df.shape"
   ]
  },
  {
   "cell_type": "code",
   "execution_count": 5,
   "id": "0cd1e1dc",
   "metadata": {},
   "outputs": [
    {
     "name": "stdout",
     "output_type": "stream",
     "text": [
      "<class 'pandas.core.frame.DataFrame'>\n",
      "RangeIndex: 1209 entries, 0 to 1208\n",
      "Data columns (total 10 columns):\n",
      " #   Column         Non-Null Count  Dtype  \n",
      "---  ------         --------------  -----  \n",
      " 0   Company/Brand  1209 non-null   object \n",
      " 1   Founded        1208 non-null   float64\n",
      " 2   Headquarters   1208 non-null   object \n",
      " 3   Sector         1209 non-null   object \n",
      " 4   What it does   1209 non-null   object \n",
      " 5   Founder/s      1205 non-null   object \n",
      " 6   Investor/s     1146 non-null   object \n",
      " 7   Amount         1202 non-null   object \n",
      " 8   Stage          781 non-null    object \n",
      " 9   Date           1209 non-null   object \n",
      "dtypes: float64(1), object(9)\n",
      "memory usage: 94.6+ KB\n"
     ]
    }
   ],
   "source": [
    "# mean ,mode,median\n",
    "df.info()"
   ]
  },
  {
   "cell_type": "code",
   "execution_count": 6,
   "id": "449b20d5",
   "metadata": {},
   "outputs": [
    {
     "data": {
      "text/plain": [
       "2016.6556291390727"
      ]
     },
     "execution_count": 6,
     "metadata": {},
     "output_type": "execute_result"
    }
   ],
   "source": [
    "df['Founded'].mean()"
   ]
  },
  {
   "cell_type": "code",
   "execution_count": 7,
   "id": "1a266848",
   "metadata": {},
   "outputs": [
    {
     "data": {
      "text/plain": [
       "2018.0"
      ]
     },
     "execution_count": 7,
     "metadata": {},
     "output_type": "execute_result"
    }
   ],
   "source": [
    "df['Founded'].median()"
   ]
  },
  {
   "cell_type": "code",
   "execution_count": 8,
   "id": "e181ab83",
   "metadata": {},
   "outputs": [
    {
     "data": {
      "text/plain": [
       "0    2020.0\n",
       "dtype: float64"
      ]
     },
     "execution_count": 8,
     "metadata": {},
     "output_type": "execute_result"
    }
   ],
   "source": [
    "df['Founded'].mode()"
   ]
  },
  {
   "cell_type": "code",
   "execution_count": 9,
   "id": "e94d9706",
   "metadata": {},
   "outputs": [
    {
     "data": {
      "text/plain": [
       "0       2015.0\n",
       "1       2012.0\n",
       "2       2015.0\n",
       "3       2018.0\n",
       "4       2021.0\n",
       "         ...  \n",
       "1204    2019.0\n",
       "1205    2020.0\n",
       "1206    1978.0\n",
       "1207    2020.0\n",
       "1208    2018.0\n",
       "Name: Founded, Length: 1209, dtype: float64"
      ]
     },
     "execution_count": 9,
     "metadata": {},
     "output_type": "execute_result"
    }
   ],
   "source": [
    "df.Founded"
   ]
  },
  {
   "cell_type": "code",
   "execution_count": 12,
   "id": "223dc081",
   "metadata": {},
   "outputs": [],
   "source": [
    "# fillna\n",
    "df.fillna(value = 'hello hello',inplace = True)"
   ]
  },
  {
   "cell_type": "code",
   "execution_count": 13,
   "id": "22c0052d",
   "metadata": {},
   "outputs": [
    {
     "data": {
      "text/plain": [
       "Company/Brand    0\n",
       "Founded          0\n",
       "Headquarters     0\n",
       "Sector           0\n",
       "What it does     0\n",
       "Founder/s        0\n",
       "Investor/s       0\n",
       "Amount           0\n",
       "Stage            0\n",
       "Date             0\n",
       "dtype: int64"
      ]
     },
     "execution_count": 13,
     "metadata": {},
     "output_type": "execute_result"
    }
   ],
   "source": [
    "df.isnull().sum()"
   ]
  },
  {
   "cell_type": "code",
   "execution_count": 31,
   "id": "5cc83167",
   "metadata": {},
   "outputs": [],
   "source": [
    "df = pd.read_csv(r'C:\\Users\\Satyam\\Downloads\\Indian Startup.csv')"
   ]
  },
  {
   "cell_type": "code",
   "execution_count": 17,
   "id": "1f2987b9",
   "metadata": {},
   "outputs": [],
   "source": [
    "df['Founded'].fillna('a',inplace = True)"
   ]
  },
  {
   "cell_type": "code",
   "execution_count": 18,
   "id": "e7a68758",
   "metadata": {},
   "outputs": [
    {
     "data": {
      "text/plain": [
       "Company/Brand      0\n",
       "Founded            0\n",
       "Headquarters       1\n",
       "Sector             0\n",
       "What it does       0\n",
       "Founder/s          4\n",
       "Investor/s        63\n",
       "Amount             7\n",
       "Stage            428\n",
       "Date               0\n",
       "dtype: int64"
      ]
     },
     "execution_count": 18,
     "metadata": {},
     "output_type": "execute_result"
    }
   ],
   "source": [
    "df.isnull().sum()"
   ]
  },
  {
   "cell_type": "code",
   "execution_count": 24,
   "id": "deb04758",
   "metadata": {},
   "outputs": [],
   "source": [
    "mean_found = df['Founded'].mean()\n",
    "med_found = df['Founded'].median()\n",
    "mod_found = df['Founded'].mode()"
   ]
  },
  {
   "cell_type": "code",
   "execution_count": 22,
   "id": "7cb8afca",
   "metadata": {},
   "outputs": [
    {
     "data": {
      "text/plain": [
       "0    2020.0\n",
       "dtype: object"
      ]
     },
     "execution_count": 22,
     "metadata": {},
     "output_type": "execute_result"
    }
   ],
   "source": [
    "mod_found"
   ]
  },
  {
   "cell_type": "code",
   "execution_count": 25,
   "id": "190be570",
   "metadata": {},
   "outputs": [
    {
     "data": {
      "text/plain": [
       "2016.6556291390727"
      ]
     },
     "execution_count": 25,
     "metadata": {},
     "output_type": "execute_result"
    }
   ],
   "source": [
    "mean_found"
   ]
  },
  {
   "cell_type": "code",
   "execution_count": 26,
   "id": "c79bdf4e",
   "metadata": {},
   "outputs": [
    {
     "data": {
      "text/plain": [
       "2018.0"
      ]
     },
     "execution_count": 26,
     "metadata": {},
     "output_type": "execute_result"
    }
   ],
   "source": [
    "med_found"
   ]
  },
  {
   "cell_type": "code",
   "execution_count": 33,
   "id": "a61c8704",
   "metadata": {},
   "outputs": [],
   "source": [
    "df['Founded'].fillna(med_found,inplace = True)"
   ]
  },
  {
   "cell_type": "code",
   "execution_count": 34,
   "id": "c71f99e9",
   "metadata": {},
   "outputs": [
    {
     "data": {
      "text/plain": [
       "0"
      ]
     },
     "execution_count": 34,
     "metadata": {},
     "output_type": "execute_result"
    }
   ],
   "source": [
    "df['Founded'].isnull().sum()"
   ]
  },
  {
   "cell_type": "code",
   "execution_count": 32,
   "id": "af936abf",
   "metadata": {},
   "outputs": [
    {
     "data": {
      "text/plain": [
       "2018.0"
      ]
     },
     "execution_count": 32,
     "metadata": {},
     "output_type": "execute_result"
    }
   ],
   "source": [
    "df['Founded'].median()"
   ]
  },
  {
   "cell_type": "code",
   "execution_count": 35,
   "id": "bdfdeb52",
   "metadata": {},
   "outputs": [
    {
     "data": {
      "text/plain": [
       "Index(['Company/Brand', 'Founded', 'Headquarters', 'Sector', 'What it does',\n",
       "       'Founder/s', 'Investor/s', 'Amount', 'Stage', 'Date '],\n",
       "      dtype='object')"
      ]
     },
     "execution_count": 35,
     "metadata": {},
     "output_type": "execute_result"
    }
   ],
   "source": [
    "# del -----> \n",
    "# dropna\n",
    "\n",
    "df.columns"
   ]
  },
  {
   "cell_type": "code",
   "execution_count": 36,
   "id": "295fe3d1",
   "metadata": {},
   "outputs": [
    {
     "name": "stdout",
     "output_type": "stream",
     "text": [
      "<class 'pandas.core.frame.DataFrame'>\n",
      "RangeIndex: 1209 entries, 0 to 1208\n",
      "Data columns (total 10 columns):\n",
      " #   Column         Non-Null Count  Dtype  \n",
      "---  ------         --------------  -----  \n",
      " 0   Company/Brand  1209 non-null   object \n",
      " 1   Founded        1209 non-null   float64\n",
      " 2   Headquarters   1208 non-null   object \n",
      " 3   Sector         1209 non-null   object \n",
      " 4   What it does   1209 non-null   object \n",
      " 5   Founder/s      1205 non-null   object \n",
      " 6   Investor/s     1146 non-null   object \n",
      " 7   Amount         1202 non-null   object \n",
      " 8   Stage          781 non-null    object \n",
      " 9   Date           1209 non-null   object \n",
      "dtypes: float64(1), object(9)\n",
      "memory usage: 94.6+ KB\n"
     ]
    }
   ],
   "source": [
    "df.info()"
   ]
  },
  {
   "cell_type": "code",
   "execution_count": 47,
   "id": "3d9ba9cd",
   "metadata": {},
   "outputs": [
    {
     "data": {
      "text/plain": [
       "428"
      ]
     },
     "execution_count": 47,
     "metadata": {},
     "output_type": "execute_result"
    }
   ],
   "source": [
    "df['Stage'].isnull().sum()"
   ]
  },
  {
   "cell_type": "code",
   "execution_count": 48,
   "id": "703f9c5b",
   "metadata": {},
   "outputs": [],
   "source": [
    "x = df['Stage'].mode()"
   ]
  },
  {
   "cell_type": "code",
   "execution_count": 52,
   "id": "84e21a48",
   "metadata": {},
   "outputs": [],
   "source": [
    " df['Stage'].fillna(x[0],inplace = True)"
   ]
  },
  {
   "cell_type": "code",
   "execution_count": 53,
   "id": "f56d2080",
   "metadata": {},
   "outputs": [
    {
     "data": {
      "text/plain": [
       "0            Series B\n",
       "1                Seed\n",
       "2            Series B\n",
       "3                Seed\n",
       "4            Series A\n",
       "            ...      \n",
       "1204    Pre-series A1\n",
       "1205             Seed\n",
       "1206             Seed\n",
       "1207         Pre-seed\n",
       "1208     Pre-series A\n",
       "Name: Stage, Length: 1209, dtype: object"
      ]
     },
     "execution_count": 53,
     "metadata": {},
     "output_type": "execute_result"
    }
   ],
   "source": [
    "df['Stage']"
   ]
  },
  {
   "cell_type": "code",
   "execution_count": 51,
   "id": "9cc1036e",
   "metadata": {},
   "outputs": [
    {
     "data": {
      "text/plain": [
       "0    Seed\n",
       "dtype: object"
      ]
     },
     "execution_count": 51,
     "metadata": {},
     "output_type": "execute_result"
    }
   ],
   "source": [
    "x.mode()"
   ]
  },
  {
   "cell_type": "code",
   "execution_count": 54,
   "id": "d81587e6",
   "metadata": {},
   "outputs": [
    {
     "data": {
      "text/plain": [
       "Index(['Company/Brand', 'Founded', 'Headquarters', 'Sector', 'What it does',\n",
       "       'Founder/s', 'Investor/s', 'Amount', 'Stage', 'Date '],\n",
       "      dtype='object')"
      ]
     },
     "execution_count": 54,
     "metadata": {},
     "output_type": "execute_result"
    }
   ],
   "source": [
    "# dropna-----\n",
    "df.columns"
   ]
  },
  {
   "cell_type": "code",
   "execution_count": 55,
   "id": "4da231e7",
   "metadata": {},
   "outputs": [
    {
     "data": {
      "text/plain": [
       "(1209, 10)"
      ]
     },
     "execution_count": 55,
     "metadata": {},
     "output_type": "execute_result"
    }
   ],
   "source": [
    "df.shape"
   ]
  },
  {
   "cell_type": "code",
   "execution_count": 57,
   "id": "874cd499",
   "metadata": {},
   "outputs": [
    {
     "data": {
      "text/html": [
       "<div>\n",
       "<style scoped>\n",
       "    .dataframe tbody tr th:only-of-type {\n",
       "        vertical-align: middle;\n",
       "    }\n",
       "\n",
       "    .dataframe tbody tr th {\n",
       "        vertical-align: top;\n",
       "    }\n",
       "\n",
       "    .dataframe thead th {\n",
       "        text-align: right;\n",
       "    }\n",
       "</style>\n",
       "<table border=\"1\" class=\"dataframe\">\n",
       "  <thead>\n",
       "    <tr style=\"text-align: right;\">\n",
       "      <th></th>\n",
       "      <th>Company/Brand</th>\n",
       "      <th>Sector</th>\n",
       "      <th>What it does</th>\n",
       "      <th>Stage</th>\n",
       "      <th>Date</th>\n",
       "    </tr>\n",
       "  </thead>\n",
       "  <tbody>\n",
       "    <tr>\n",
       "      <th>0</th>\n",
       "      <td>CollegeDekho</td>\n",
       "      <td>E-learning</td>\n",
       "      <td>Collegedekho.com is Student’s Partner, Friend ...</td>\n",
       "      <td>Series B</td>\n",
       "      <td>Dec-2021</td>\n",
       "    </tr>\n",
       "    <tr>\n",
       "      <th>1</th>\n",
       "      <td>BOX8</td>\n",
       "      <td>Food &amp; Beverages</td>\n",
       "      <td>India's Largest Desi Meals Brand</td>\n",
       "      <td>Seed</td>\n",
       "      <td>Dec-2021</td>\n",
       "    </tr>\n",
       "    <tr>\n",
       "      <th>2</th>\n",
       "      <td>Simpl</td>\n",
       "      <td>Consumer Services</td>\n",
       "      <td>Simpl empowers merchants to build trusted rela...</td>\n",
       "      <td>Series B</td>\n",
       "      <td>Dec-2021</td>\n",
       "    </tr>\n",
       "    <tr>\n",
       "      <th>3</th>\n",
       "      <td>8i Ventures</td>\n",
       "      <td>Venture Capital &amp; Private Equity</td>\n",
       "      <td>8i is a Mumbai &amp; Bangalore based early stage f...</td>\n",
       "      <td>Seed</td>\n",
       "      <td>Dec-2021</td>\n",
       "    </tr>\n",
       "    <tr>\n",
       "      <th>4</th>\n",
       "      <td>PayGlocal</td>\n",
       "      <td>Financial Services</td>\n",
       "      <td>PayGlocal is a FinTech solving for global paym...</td>\n",
       "      <td>Series A</td>\n",
       "      <td>Dec-2021</td>\n",
       "    </tr>\n",
       "    <tr>\n",
       "      <th>...</th>\n",
       "      <td>...</td>\n",
       "      <td>...</td>\n",
       "      <td>...</td>\n",
       "      <td>...</td>\n",
       "      <td>...</td>\n",
       "    </tr>\n",
       "    <tr>\n",
       "      <th>1204</th>\n",
       "      <td>HobSpace</td>\n",
       "      <td>EdTech</td>\n",
       "      <td>HobSpace is a platform for extra-curricular ac...</td>\n",
       "      <td>Pre-series A1</td>\n",
       "      <td>Jan-2021</td>\n",
       "    </tr>\n",
       "    <tr>\n",
       "      <th>1205</th>\n",
       "      <td>DcodeAI</td>\n",
       "      <td>EdTech</td>\n",
       "      <td>EMPOWER LEARNERS TO BE FUTURE READY USING AI</td>\n",
       "      <td>Seed</td>\n",
       "      <td>Jan-2021</td>\n",
       "    </tr>\n",
       "    <tr>\n",
       "      <th>1206</th>\n",
       "      <td>Biocon Biologics</td>\n",
       "      <td>BioTechnology</td>\n",
       "      <td>Biocon is a fully integrated pure play biosimi...</td>\n",
       "      <td>Seed</td>\n",
       "      <td>Jan-2021</td>\n",
       "    </tr>\n",
       "    <tr>\n",
       "      <th>1207</th>\n",
       "      <td>KiranaKart</td>\n",
       "      <td>E-commerce</td>\n",
       "      <td>A better model for instant grocery delivery in...</td>\n",
       "      <td>Pre-seed</td>\n",
       "      <td>Jan-2021</td>\n",
       "    </tr>\n",
       "    <tr>\n",
       "      <th>1208</th>\n",
       "      <td>Meddo</td>\n",
       "      <td>Healthcare</td>\n",
       "      <td>Meddo is an end-to-end medical services provider</td>\n",
       "      <td>Pre-series A</td>\n",
       "      <td>Jan-2021</td>\n",
       "    </tr>\n",
       "  </tbody>\n",
       "</table>\n",
       "<p>1209 rows × 5 columns</p>\n",
       "</div>"
      ],
      "text/plain": [
       "         Company/Brand                            Sector  \\\n",
       "0         CollegeDekho                        E-learning   \n",
       "1                 BOX8                  Food & Beverages   \n",
       "2                Simpl                 Consumer Services   \n",
       "3          8i Ventures  Venture Capital & Private Equity   \n",
       "4            PayGlocal                Financial Services   \n",
       "...                ...                               ...   \n",
       "1204          HobSpace                            EdTech   \n",
       "1205           DcodeAI                            EdTech   \n",
       "1206  Biocon Biologics                     BioTechnology   \n",
       "1207        KiranaKart                        E-commerce   \n",
       "1208             Meddo                        Healthcare   \n",
       "\n",
       "                                           What it does          Stage  \\\n",
       "0     Collegedekho.com is Student’s Partner, Friend ...       Series B   \n",
       "1                      India's Largest Desi Meals Brand           Seed   \n",
       "2     Simpl empowers merchants to build trusted rela...       Series B   \n",
       "3     8i is a Mumbai & Bangalore based early stage f...           Seed   \n",
       "4     PayGlocal is a FinTech solving for global paym...       Series A   \n",
       "...                                                 ...            ...   \n",
       "1204  HobSpace is a platform for extra-curricular ac...  Pre-series A1   \n",
       "1205       EMPOWER LEARNERS TO BE FUTURE READY USING AI           Seed   \n",
       "1206  Biocon is a fully integrated pure play biosimi...           Seed   \n",
       "1207  A better model for instant grocery delivery in...       Pre-seed   \n",
       "1208   Meddo is an end-to-end medical services provider   Pre-series A   \n",
       "\n",
       "         Date   \n",
       "0     Dec-2021  \n",
       "1     Dec-2021  \n",
       "2     Dec-2021  \n",
       "3     Dec-2021  \n",
       "4     Dec-2021  \n",
       "...        ...  \n",
       "1204  Jan-2021  \n",
       "1205  Jan-2021  \n",
       "1206  Jan-2021  \n",
       "1207  Jan-2021  \n",
       "1208  Jan-2021  \n",
       "\n",
       "[1209 rows x 5 columns]"
      ]
     },
     "execution_count": 57,
     "metadata": {},
     "output_type": "execute_result"
    }
   ],
   "source": [
    "df.dropna(axis = 1)"
   ]
  },
  {
   "cell_type": "code",
   "execution_count": 60,
   "id": "ce9ea197",
   "metadata": {},
   "outputs": [
    {
     "data": {
      "text/plain": [
       "0       $35,000,000\n",
       "1       $40,000,000\n",
       "2       $40,000,000\n",
       "3       $50,000,000\n",
       "4        $4,900,000\n",
       "           ...     \n",
       "1204       $100,000\n",
       "1205       $500,000\n",
       "1206    $70,000,000\n",
       "1207       $720,000\n",
       "1208     $3,000,000\n",
       "Name: Amount, Length: 1202, dtype: object"
      ]
     },
     "execution_count": 60,
     "metadata": {},
     "output_type": "execute_result"
    }
   ],
   "source": [
    "df['Amount'].dropna(axis = 0)"
   ]
  },
  {
   "cell_type": "code",
   "execution_count": 63,
   "id": "5e625f37",
   "metadata": {},
   "outputs": [
    {
     "data": {
      "text/plain": [
       "7"
      ]
     },
     "execution_count": 63,
     "metadata": {},
     "output_type": "execute_result"
    }
   ],
   "source": [
    "# join\n",
    "# append\n",
    "# merge\n",
    "# concate\n",
    "# groupby\n",
    "# replace\n",
    "\n",
    "df['Amount'].isnull().sum()"
   ]
  },
  {
   "cell_type": "code",
   "execution_count": 66,
   "id": "165c7106",
   "metadata": {},
   "outputs": [],
   "source": [
    "df['Amount'].dropna(axis = 0,inplace=True)"
   ]
  },
  {
   "cell_type": "code",
   "execution_count": 67,
   "id": "1a82077e",
   "metadata": {},
   "outputs": [
    {
     "data": {
      "text/plain": [
       "7"
      ]
     },
     "execution_count": 67,
     "metadata": {},
     "output_type": "execute_result"
    }
   ],
   "source": [
    "df['Amount'].isnull().sum()"
   ]
  },
  {
   "cell_type": "code",
   "execution_count": null,
   "id": "6f6a3bd8",
   "metadata": {},
   "outputs": [],
   "source": []
  }
 ],
 "metadata": {
  "kernelspec": {
   "display_name": "Python 3 (ipykernel)",
   "language": "python",
   "name": "python3"
  },
  "language_info": {
   "codemirror_mode": {
    "name": "ipython",
    "version": 3
   },
   "file_extension": ".py",
   "mimetype": "text/x-python",
   "name": "python",
   "nbconvert_exporter": "python",
   "pygments_lexer": "ipython3",
   "version": "3.9.7"
  }
 },
 "nbformat": 4,
 "nbformat_minor": 5
}
